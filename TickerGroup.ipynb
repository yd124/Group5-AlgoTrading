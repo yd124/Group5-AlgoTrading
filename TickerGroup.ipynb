{
 "cells": [
  {
   "cell_type": "markdown",
   "metadata": {},
   "source": [
    "![QuantConnect Logo](https://cdn.quantconnect.com/web/i/icon.png)\n",
    "<hr>"
   ]
  },
  {
   "cell_type": "code",
   "execution_count": 1,
   "metadata": {},
   "outputs": [],
   "source": [
    "import numpy as np\n",
    "import pandas as pd"
   ]
  },
  {
   "cell_type": "code",
   "execution_count": 35,
   "metadata": {},
   "outputs": [],
   "source": [
    "tickers = [['HEI', 'PAC'], ['VVI', 'HA'], ['ALK', 'SAVE'], ['ALGT', 'HA'], ['NSC', 'CNI'], ['CSX', 'NSC'], ['SAVE', 'HA'], ['SAVE', 'JBLU'], ['NSC', 'CSX'], ['DCI', 'HUBB'], ['CNI', 'NSC'], ['CNI', 'CSX'], ['UAUA', 'JBLU'], ['CP', 'ROP'], ['KELYA', 'KNL'], ['TRU', 'EFX'], ['LUV', 'HXL'], ['FSS', 'ALG'], ['JBLU', 'UAUA'], ['VVI', 'JBLU'], ['WIRE', 'ALG'], ['IBP', 'SITE'], ['GRC', 'ALG'], ['GMT', 'ALG'], ['ALG', 'GMT'], ['BLD', 'SITE'], ['GRC', 'GMT'], ['MGRC', 'ALG'], ['JBLU', 'SAVE'], ['CASS', 'ALG']]\n",
    "\n"
   ]
  },
  {
   "cell_type": "code",
   "execution_count": 36,
   "metadata": {},
   "outputs": [],
   "source": [
    "len(tickers)"
   ]
  },
  {
   "cell_type": "code",
   "execution_count": 37,
   "metadata": {},
   "outputs": [],
   "source": [
    "tickers = tickers[:30]"
   ]
  },
  {
   "cell_type": "code",
   "execution_count": 38,
   "metadata": {},
   "outputs": [],
   "source": [
    "i = 0\n",
    "groups = {}\n",
    "while tickers != []:\n",
    "#     print(\"loop\")\n",
    "    groups[i] = []\n",
    "    added = []\n",
    "\n",
    "    for p in tickers:\n",
    "\n",
    "        if (p[0] not in added) and (p[1] not in added):\n",
    "            added.append(p[0])\n",
    "            added.append(p[1])\n",
    "#             print(\"added\",added)\n",
    "            groups[i].append(p)\n",
    "\n",
    "    for p in groups[i]:\n",
    "         tickers.remove(p)\n",
    "    i = i + 1"
   ]
  },
  {
   "cell_type": "code",
   "execution_count": 39,
   "metadata": {},
   "outputs": [],
   "source": [
    "for i in range(len(groups)):\n",
    "    print(\"group\", i)\n",
    "    print(groups[i])"
   ]
  },
  {
   "cell_type": "code",
   "execution_count": null,
   "metadata": {},
   "outputs": [],
   "source": []
  },
  {
   "cell_type": "code",
   "execution_count": null,
   "metadata": {},
   "outputs": [],
   "source": []
  },
  {
   "cell_type": "code",
   "execution_count": null,
   "metadata": {},
   "outputs": [],
   "source": []
  },
  {
   "cell_type": "code",
   "execution_count": null,
   "metadata": {},
   "outputs": [],
   "source": []
  },
  {
   "cell_type": "code",
   "execution_count": null,
   "metadata": {},
   "outputs": [],
   "source": []
  },
  {
   "cell_type": "code",
   "execution_count": null,
   "metadata": {},
   "outputs": [],
   "source": []
  },
  {
   "cell_type": "code",
   "execution_count": null,
   "metadata": {},
   "outputs": [],
   "source": []
  },
  {
   "cell_type": "code",
   "execution_count": null,
   "metadata": {},
   "outputs": [],
   "source": []
  },
  {
   "cell_type": "code",
   "execution_count": null,
   "metadata": {},
   "outputs": [],
   "source": []
  },
  {
   "cell_type": "code",
   "execution_count": null,
   "metadata": {},
   "outputs": [],
   "source": []
  },
  {
   "cell_type": "code",
   "execution_count": null,
   "metadata": {},
   "outputs": [],
   "source": []
  }
 ],
 "metadata": {
  "kernelspec": {
   "display_name": "Python 3",
   "language": "python",
   "name": "python3"
  },
  "language_info": {
   "codemirror_mode": {
    "name": "ipython",
    "version": 3
   },
   "file_extension": ".py",
   "mimetype": "text/x-python",
   "name": "python",
   "nbconvert_exporter": "python",
   "pygments_lexer": "ipython3",
   "version": "3.6.8"
  }
 },
 "nbformat": 4,
 "nbformat_minor": 2
}
